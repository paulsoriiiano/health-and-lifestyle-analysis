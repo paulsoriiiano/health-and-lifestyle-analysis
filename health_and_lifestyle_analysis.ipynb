{
 "cells": [
  {
   "cell_type": "markdown",
   "id": "cbcc670a",
   "metadata": {},
   "source": [
    "# Analysis on Sleep Health and Lifestyle Dataset"
   ]
  },
  {
   "cell_type": "markdown",
   "id": "b571301b",
   "metadata": {},
   "source": [
    "#### Author: Paul Junver Soriano"
   ]
  },
  {
   "cell_type": "markdown",
   "id": "e222fb8d",
   "metadata": {},
   "source": [
    "#### Date: March 11, 2025 *(Last Updated)*"
   ]
  },
  {
   "cell_type": "markdown",
   "id": "7ca9eb47",
   "metadata": {},
   "source": [
    "## Introduction"
   ]
  },
  {
   "cell_type": "markdown",
   "id": "1f149819",
   "metadata": {},
   "source": [
    "## Objective"
   ]
  },
  {
   "cell_type": "markdown",
   "id": "95b6c785",
   "metadata": {},
   "source": [
    "## Data"
   ]
  },
  {
   "cell_type": "markdown",
   "id": "3cff4d9e",
   "metadata": {},
   "source": [
    "### Dataset"
   ]
  },
  {
   "cell_type": "markdown",
   "id": "78f4416b",
   "metadata": {},
   "source": [
    "### Data Overview"
   ]
  },
  {
   "cell_type": "markdown",
   "id": "879dbb84",
   "metadata": {},
   "source": [
    "## TODO: Exploratory Data Analysis (EDA)"
   ]
  },
  {
   "cell_type": "markdown",
   "id": "a14bb120",
   "metadata": {},
   "source": [
    "## TODO: Hypothesis Testing"
   ]
  },
  {
   "cell_type": "code",
   "execution_count": null,
   "id": "8505026d",
   "metadata": {},
   "outputs": [],
   "source": []
  }
 ],
 "metadata": {
  "kernelspec": {
   "display_name": "Python 3 (ipykernel)",
   "language": "python",
   "name": "python3"
  },
  "language_info": {
   "codemirror_mode": {
    "name": "ipython",
    "version": 3
   },
   "file_extension": ".py",
   "mimetype": "text/x-python",
   "name": "python",
   "nbconvert_exporter": "python",
   "pygments_lexer": "ipython3",
   "version": "3.10.16"
  }
 },
 "nbformat": 4,
 "nbformat_minor": 5
}
